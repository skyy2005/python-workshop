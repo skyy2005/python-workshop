{
 "cells": [
  {
   "cell_type": "markdown",
   "id": "3bf8804d-7ce0-4831-8eeb-9e61ec27921d",
   "metadata": {},
   "source": [
    "# NUMPY"
   ]
  },
  {
   "cell_type": "code",
   "execution_count": 2,
   "id": "10147276-0cb5-4f0a-b9a6-6cd239e7b3ef",
   "metadata": {},
   "outputs": [
    {
     "name": "stdout",
     "output_type": "stream",
     "text": [
      "[1 2 3 4 5]\n",
      "2.3.2\n"
     ]
    }
   ],
   "source": [
    "import numpy as np\n",
    "arr=np.array([1,2,3,4,5])\n",
    "print(arr)\n",
    "print(np.__version__)"
   ]
  },
  {
   "cell_type": "code",
   "execution_count": 2,
   "id": "6d6d10c7-eed5-45ae-842f-dd5c63b5f17c",
   "metadata": {},
   "outputs": [
    {
     "name": "stdout",
     "output_type": "stream",
     "text": [
      "[1 2 3 4 5]\n",
      "2.3.2\n"
     ]
    }
   ],
   "source": [
    "import numpy as np\n",
    "arr=np.array([1,2,3,4,5])\n",
    "print(arr)\n",
    "print(np.__version__)"
   ]
  },
  {
   "cell_type": "code",
   "execution_count": 3,
   "id": "ea418f1d-038b-4a37-8634-aeab3fbdbde4",
   "metadata": {},
   "outputs": [
    {
     "name": "stdout",
     "output_type": "stream",
     "text": [
      "[[1 2 3]\n",
      " [4 5 6]]\n"
     ]
    }
   ],
   "source": [
    "import numpy as np\n",
    "arr=np.array([[1,2,3],[4,5,6]])\n",
    "print (arr)"
   ]
  },
  {
   "cell_type": "code",
   "execution_count": 4,
   "id": "e3b4155e-cb3d-4580-a06e-9656e4c21560",
   "metadata": {},
   "outputs": [
    {
     "name": "stdout",
     "output_type": "stream",
     "text": [
      "[[[1 2 3]\n",
      "  [4 5 6]]\n",
      "\n",
      " [[1 2 3]\n",
      "  [4 5 6]]]\n"
     ]
    }
   ],
   "source": [
    "import numpy as np\n",
    "arr=np.array([[[1,2,3],[4,5,6]],[[1,2,3],[4,5,6]]])\n",
    "print(arr)"
   ]
  },
  {
   "cell_type": "markdown",
   "id": "70bbfe8a-5c8c-4751-9d8a-caf32f95f09b",
   "metadata": {},
   "source": [
    "# DIMENSION ARRAY"
   ]
  },
  {
   "cell_type": "code",
   "execution_count": 5,
   "id": "d3a7d26d",
   "metadata": {},
   "outputs": [
    {
     "name": "stdout",
     "output_type": "stream",
     "text": [
      "0\n",
      "1\n",
      "2\n",
      "3\n"
     ]
    }
   ],
   "source": [
    "import numpy as np\n",
    "a=np.array(42)\n",
    "b=np.array([1,2,3,4,5])\n",
    "c=np.array([[1,2,3],[4,5,6]])\n",
    "d=np.array([[[1,2,3],[4,5,6]],[[1,2,3],[4,5,6]]])\n",
    "print(a.ndim)\n",
    "print(b.ndim)\n",
    "print(c.ndim)\n",
    "print(d.ndim)\n"
   ]
  },
  {
   "cell_type": "code",
   "execution_count": 6,
   "id": "9cf1621a-2651-491f-81ff-33f19b0cca9f",
   "metadata": {},
   "outputs": [
    {
     "name": "stdout",
     "output_type": "stream",
     "text": [
      "[[[[[1 2 3 4]]]]]\n",
      "numberof dimension: 5\n"
     ]
    }
   ],
   "source": [
    "import numpy as np\n",
    "arr=np.array([1,2,3,4],ndmin=5)\n",
    "print(arr)\n",
    "print('numberof dimension:',arr.ndim)"
   ]
  },
  {
   "cell_type": "code",
   "execution_count": 9,
   "id": "44a8f223-01dd-43ef-9ad8-8318db6e97ee",
   "metadata": {},
   "outputs": [
    {
     "name": "stdout",
     "output_type": "stream",
     "text": [
      "2nd elememt on 1st row: 2\n"
     ]
    }
   ],
   "source": [
    "import numpy as np \n",
    "arr=np.array([[1,2,3,4,5],[6,7,8,9,10]])\n",
    "print('2nd elememt on 1st row:',arr[0,1])"
   ]
  },
  {
   "cell_type": "markdown",
   "id": "b9d92545-097b-4d90-b506-c2f798c1618a",
   "metadata": {},
   "source": [
    "# 3D ARRAY"
   ]
  },
  {
   "cell_type": "code",
   "execution_count": 10,
   "id": "1d7fac6c-2faf-454e-97c8-91676703d5c8",
   "metadata": {},
   "outputs": [
    {
     "name": "stdout",
     "output_type": "stream",
     "text": [
      "1\n",
      "2\n",
      "3\n",
      "4\n",
      "5\n",
      "6\n",
      "7\n",
      "8\n"
     ]
    }
   ],
   "source": [
    "import numpy as np \n",
    "arr=np.array ([[[1,2],[3,4]],[[5,6],[7,8]]])\n",
    "for x in np.nditer(arr):\n",
    "    print(x)"
   ]
  },
  {
   "cell_type": "markdown",
   "id": "715b2e41-ad92-4c5a-8a49-07e269408aee",
   "metadata": {},
   "source": [
    "# JOIN TWO ARRAY np.concatenate"
   ]
  },
  {
   "cell_type": "code",
   "execution_count": 11,
   "id": "2bac6396-fc30-4bdc-b523-c50e26164a5d",
   "metadata": {},
   "outputs": [
    {
     "name": "stdout",
     "output_type": "stream",
     "text": [
      "[1 2 3 4 5 6]\n"
     ]
    }
   ],
   "source": [
    "import numpy as np \n",
    "arr1=np.array([1,2,3])\n",
    "arr2=np.array([4,5,6])\n",
    "arr=np.concatenate((arr1,arr2))\n",
    "print(arr)"
   ]
  },
  {
   "cell_type": "markdown",
   "id": "f9426ec5-efb2-47b0-8e1a-da58577d67f4",
   "metadata": {},
   "source": [
    "# search array"
   ]
  },
  {
   "cell_type": "raw",
   "id": "9811a2ed-fb1a-46b7-9583-cd0aeec3d0e7",
   "metadata": {},
   "source": [
    "import numpy as np\n",
    "arr=np.array([1,2,3,4,5,4,4])\n",
    "x=np.where(arr==7)\n",
    "print(x)"
   ]
  },
  {
   "cell_type": "markdown",
   "id": "ee950a27-8fd3-4e2b-9a60-9f33f543f78d",
   "metadata": {},
   "source": [
    "# sort function "
   ]
  },
  {
   "cell_type": "code",
   "execution_count": 15,
   "id": "b358f7a4-2569-4bb9-9d7c-2eb637e11030",
   "metadata": {},
   "outputs": [
    {
     "name": "stdout",
     "output_type": "stream",
     "text": [
      "[0 1 2 3]\n"
     ]
    }
   ],
   "source": [
    "arr=np.array([3,2,1,0])\n",
    "print(np.sort(arr))"
   ]
  },
  {
   "cell_type": "markdown",
   "id": "34b8fb29-b598-454e-b468-bc36c7b123f6",
   "metadata": {},
   "source": [
    "# pandas"
   ]
  },
  {
   "cell_type": "markdown",
   "id": "be485012-ce29-47e6-a32b-f996d780bc54",
   "metadata": {},
   "source": [
    "### create a simple pandas series from a dictonary "
   ]
  },
  {
   "cell_type": "code",
   "execution_count": 4,
   "id": "047200d9-06dc-4936-bf96-39c8cacc85a7",
   "metadata": {},
   "outputs": [
    {
     "name": "stdout",
     "output_type": "stream",
     "text": [
      "day 1    420\n",
      "day 2    380\n",
      "day 3    390\n",
      "dtype: int64\n"
     ]
    }
   ],
   "source": [
    "import pandas as pd\n",
    "calories={\"day 1\":420,\"day 2\":380,\"day 3\":390}\n",
    "myvar=pd.Series(calories)\n",
    "print (myvar)"
   ]
  },
  {
   "cell_type": "markdown",
   "id": "97e97400-711d-4b29-9e79-5508827fc6ef",
   "metadata": {},
   "source": [
    "# Counting pattern"
   ]
  },
  {
   "cell_type": "code",
   "execution_count": 4,
   "id": "eecb593c-efb0-425b-8392-1d4b7994c6b3",
   "metadata": {},
   "outputs": [
    {
     "name": "stdout",
     "output_type": "stream",
     "text": [
      "enter a line of text\n"
     ]
    },
    {
     "name": "stdin",
     "output_type": "stream",
     "text": [
      " \n"
     ]
    },
    {
     "name": "stdout",
     "output_type": "stream",
     "text": [
      "words: []\n",
      "counting...\n"
     ]
    }
   ],
   "source": [
    "counts = dict()\n",
    "print ('enter a line of text')\n",
    "line = input (\"\")\n",
    "words=line.split()\n",
    "print ('words:',words)\n",
    "print ('counting...')\n",
    "for word in words:\n",
    "    counts[words]=counts.get(word,0)+1\n",
    "    print('counts',counts)\n"
   ]
  },
  {
   "cell_type": "code",
   "execution_count": 13,
   "id": "b175369d-66d7-486a-92be-bfdba36c372f",
   "metadata": {},
   "outputs": [
    {
     "name": "stdout",
     "output_type": "stream",
     "text": [
      "Enter a word:\n"
     ]
    },
    {
     "name": "stdin",
     "output_type": "stream",
     "text": [
      "word:  \n"
     ]
    },
    {
     "name": "stdout",
     "output_type": "stream",
     "text": [
      "Words in the word:\n",
      "counting\n"
     ]
    }
   ],
   "source": [
    "counts = dict()\n",
    "total=0\n",
    "print(\"Enter a word:\")\n",
    "line = input(\"word: \")\n",
    "words = line.split()\n",
    "print(\"Words in the word:\")\n",
    "print(\"counting\")\n",
    "for word in words:\n",
    "    counts[word] = counts.get(word, 0) + 1\n",
    "    if word.isdigit():\n",
    "        total += int(word)\n",
    "        print(word, counts [word])\n",
    "        print(\"Counting complete\")\n",
    "        print(\"Sum of all numbers i\")"
   ]
  },
  {
   "cell_type": "code",
   "execution_count": 14,
   "id": "c998b88e-f9b3-4998-8236-3ba21be1fdb3",
   "metadata": {},
   "outputs": [
    {
     "name": "stdout",
     "output_type": "stream",
     "text": [
      "Enter a word:\n"
     ]
    },
    {
     "name": "stdin",
     "output_type": "stream",
     "text": [
      "word:  \n"
     ]
    },
    {
     "name": "stdout",
     "output_type": "stream",
     "text": [
      "Words in the word:\n",
      "counting\n"
     ]
    }
   ],
   "source": [
    ",\n",
    "total=0\n",
    "print(\"Enter a word:\")\n",
    "line = input(\"word: \")\n",
    "words = line.split()\n",
    "print(\"Words in the word:\")\n",
    "print(\"counting\")\n",
    "for word in words:\n",
    "    counts[word] = counts.get(word, 0) + 1\n",
    "    if word.isdigit():\n",
    "        total += int(word)\n",
    "        print(word, counts [word])\n",
    "        print(\"Counting complete\")\n",
    "        print(\"Sum of all numbers i\")"
   ]
  },
  {
   "cell_type": "code",
   "execution_count": 17,
   "id": "dccd45ec-f038-46f7-98ee-c321cf17efc7",
   "metadata": {},
   "outputs": [
    {
     "name": "stdout",
     "output_type": "stream",
     "text": [
      "use string\n"
     ]
    },
    {
     "name": "stdin",
     "output_type": "stream",
     "text": [
      "string: esffse\n"
     ]
    }
   ],
   "source": [
    "count = dict ()\n",
    "total=0\n",
    "print(\"use string\")\n",
    "line = input(\"string:\")\n"
   ]
  },
  {
   "cell_type": "code",
   "execution_count": 18,
   "id": "f805675b-38eb-4b58-8836-529356125a92",
   "metadata": {},
   "outputs": [
    {
     "name": "stdin",
     "output_type": "stream",
     "text": [
      "Enter a string:  aer34568u&^%\n"
     ]
    },
    {
     "name": "stdout",
     "output_type": "stream",
     "text": [
      "\n",
      "--- Results ---\n",
      "Words: []\n",
      "String Numbers: ['aer34568u&^%']\n",
      "Concatenated String Numbers: aer34568u&^%\n",
      "Total Words + String Numbers: 1\n",
      "Special symbols were present.\n",
      "Special Symbols: ['&', '^', '%']\n",
      "Sum of all full numbers found: 183348934568\n"
     ]
    }
   ],
   "source": [
    "line = input(\"Enter a string: \")\n",
    "words = []\n",
    "string_nums = []\n",
    "specials = []\n",
    "concat = \"\"\n",
    "number_sum = 0\n",
    "for word in line.split():\n",
    "    if word.isalpha():\n",
    "        words.append(word)\n",
    "    elif any(c.isalpha() for c in word) and any(c.isdigit() for c in word):\n",
    "        string_nums.append(word)\n",
    "        concat += word\n",
    "\n",
    "    for ch in word:\n",
    "        if ch.isdigit():\n",
    "            num += ch\n",
    "        elif not ch.isalnum():\n",
    "            specials.append(ch)\n",
    "    if num:\n",
    "        number_sum += int(num)\n",
    "\n",
    "print(\"\\n--- Results ---\")\n",
    "print(\"Words:\", words)\n",
    "print(\"String Numbers:\", string_nums)\n",
    "print(\"Concatenated String Numbers:\", concat)\n",
    "print(\"Total Words + String Numbers:\", len(words) + len(string_nums))\n",
    "\n",
    "if specials:\n",
    "    print(\"Special symbols were present.\")\n",
    "    print(\"Special Symbols:\", specials)\n",
    "else:\n",
    "    print(\"No special symbols found.\")\n",
    "\n",
    "print(\"Sum of all full numbers found:\", number_sum)"
   ]
  },
  {
   "cell_type": "code",
   "execution_count": 1,
   "id": "5809a78b-61db-4bcc-8037-ff57d3da4628",
   "metadata": {},
   "outputs": [
    {
     "name": "stdin",
     "output_type": "stream",
     "text": [
      "Enter a string:  54564\n"
     ]
    },
    {
     "name": "stdout",
     "output_type": "stream",
     "text": [
      "\n",
      "--- Result ---\n",
      "Words: []\n",
      "Words with letters & numbers: []\n",
      "Joined mixed words: \n",
      "Total count (words + mix): 0\n",
      "No special characters found.\n",
      "Total of all numbers: 54564\n"
     ]
    }
   ],
   "source": [
    "line = input(\"Enter a string: \")\n",
    "\n",
    "words = []         # Only letters\n",
    "mix_words = []     # Mix of letters and numbers\n",
    "specials = []      # Special characters like !, @, #\n",
    "combined = \"\"      # Joined mix words\n",
    "total = 0          # Total of all numbers found\n",
    "\n",
    "# Go through each word in the input\n",
    "for word in line.split():\n",
    "    # If only alphabets, save in words\n",
    "    if word.isalpha():\n",
    "        words.append(word)\n",
    "    \n",
    "    # If word has both letters and numbers\n",
    "    elif any(c.isalpha() for c in word) and any(c.isdigit() for c in word):\n",
    "        mix_words.append(word)\n",
    "        combined += word\n",
    "\n",
    "    # Check each character\n",
    "    number = \"\"\n",
    "    for ch in word:\n",
    "        if ch.isdigit():\n",
    "            number += ch\n",
    "        elif not ch.isalnum():\n",
    "            specials.append(ch)\n",
    "\n",
    "    # If a number was found, add to total\n",
    "    if number:\n",
    "        total += int(number)\n",
    "\n",
    "# Show results\n",
    "print(\"\\n--- Result ---\")\n",
    "print(\"Words:\", words)\n",
    "print(\"Words with letters & numbers:\", mix_words)\n",
    "print(\"Joined mixed words:\", combined)\n",
    "print(\"Total count (words + mix):\", len(words) + len(mix_words))\n",
    "\n",
    "if specials:\n",
    "    print(\"Special characters found:\", specials)\n",
    "else:\n",
    "    print(\"No special characters found.\")\n",
    "\n",
    "print(\"Total of all numbers:\", total)"
   ]
  },
  {
   "cell_type": "code",
   "execution_count": 3,
   "id": "e122d4e2-6ae1-4651-95e2-15f0e0e78991",
   "metadata": {},
   "outputs": [
    {
     "name": "stdout",
     "output_type": "stream",
     "text": [
      "Enter a line:\n"
     ]
    },
    {
     "name": "stdin",
     "output_type": "stream",
     "text": [
      "Line:  i am a boy 2345\n"
     ]
    },
    {
     "name": "stdout",
     "output_type": "stream",
     "text": [
      "Words in the line:\n",
      "Counting.... 5\n",
      "No special symbols found.\n",
      "Counting complete\n",
      "Sum of all numbers: 2345\n",
      "Concatenated String Numbers: 2345\n"
     ]
    }
   ],
   "source": [
    "counts = dict()\n",
    "total = 0\n",
    "concat = \"\"\n",
    "num = \"\"\n",
    "specials = []\n",
    "\n",
    "print(\"Enter a line:\")\n",
    "line = input(\"Line: \")\n",
    "\n",
    "words = line.split()\n",
    "word_length = len(words)\n",
    "\n",
    "print(\"Words in the line:\")\n",
    "print(\"Counting....\", word_length)\n",
    "\n",
    "for word in words:\n",
    "    counts[word] = counts.get(word, 0) + 1\n",
    "    \n",
    "    if word.isdigit():\n",
    "        total += int(word)\n",
    "        concat += word\n",
    "    \n",
    "    for ch in word:\n",
    "        if ch.isdigit():\n",
    "            num += ch\n",
    "        elif not ch.isalnum():\n",
    "            specials.append(ch)\n",
    "\n",
    "if specials:\n",
    "    print(\"Special symbols were present.\")\n",
    "    print(\"Special Symbols:\", specials)\n",
    "else:\n",
    "    print(\"No special symbols found.\")\n",
    "\n",
    "print(\"Counting complete\")\n",
    "print(\"Sum of all numbers:\", total)\n",
    "print(\"Concatenated String Numbers:\", concat)"
   ]
  }
 ],
 "metadata": {
  "kernelspec": {
   "display_name": "Python 3 (ipykernel)",
   "language": "python",
   "name": "python3"
  },
  "language_info": {
   "codemirror_mode": {
    "name": "ipython",
    "version": 3
   },
   "file_extension": ".py",
   "mimetype": "text/x-python",
   "name": "python",
   "nbconvert_exporter": "python",
   "pygments_lexer": "ipython3",
   "version": "3.13.5"
  }
 },
 "nbformat": 4,
 "nbformat_minor": 5
}
