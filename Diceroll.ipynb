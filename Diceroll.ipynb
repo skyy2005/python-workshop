{
 "cells": [
  {
   "cell_type": "markdown",
   "id": "695f6e12-b943-4930-8ce4-abe51c43f771",
   "metadata": {},
   "source": [
    "# dice roll"
   ]
  },
  {
   "cell_type": "code",
   "execution_count": null,
   "id": "2907aec2-a644-400c-aaeb-312ae40586f8",
   "metadata": {},
   "outputs": [],
   "source": [
    "import random \n",
    "def roll_dice():\n",
    "    input(\"prees the enter to roll dice..\")\n",
    "    dice= random.randint(1,6)\n",
    "    print(f\"you rooled a {dice}\")\n",
    "\n",
    "roll_dice()    "
   ]
  },
  {
   "cell_type": "markdown",
   "id": "d9422b2a-6ab2-4898-b496-3015990250f7",
   "metadata": {},
   "source": [
    "# dice roll again"
   ]
  },
  {
   "cell_type": "code",
   "execution_count": null,
   "id": "74217a9b-24fd-4892-b166-c7a301f2a24d",
   "metadata": {},
   "outputs": [],
   "source": [
    "import random\n",
    "def roll_dice():\n",
    "    return random.randint(1,6)\n",
    "\n",
    "\n",
    "while True :\n",
    "    input (\"press the enter to roll the dice ...\")\n",
    "    print (\"you rolled :\", roll_dice())\n",
    "    again = input (\"roll again ?(y/n):\")\n",
    "    if again.lower() !='y':\n",
    "        break"
   ]
  },
  {
   "cell_type": "markdown",
   "id": "0a327e70-0819-4f33-82d7-710e473743fa",
   "metadata": {},
   "source": [
    "# dice roll app"
   ]
  },
  {
   "cell_type": "code",
   "execution_count": null,
   "id": "bdc1acb3-673e-40ba-af47-82e8d9927651",
   "metadata": {},
   "outputs": [],
   "source": [
    "import tkinter as tk\n",
    "import random\n",
    "def roll_dice():\n",
    "    dice=random.randint(1, 6)\n",
    "    label_result.config(text=f\"You rolled a {dice}!\")\n",
    "    dice_label.config(text=dice_unicode[dice])\n",
    "    \n",
    "dice_unicode={\n",
    "    1:\"\\u2680\",  \n",
    "    2:\"\\u2681\",  \n",
    "    3:\"\\u2682\",  \n",
    "    4:\"\\u2683\",  \n",
    "    5:\"\\u2684\", \n",
    "    6:\"\\u2685\",}\n",
    "root=tk.Tk()\n",
    "root.title(\"Dice Roller\")\n",
    "root.geometry(\"300x200\")\n",
    "\n",
    "dice_label=tk.Label(root, text=\"\", font=(\"Helvetica\", 100))\n",
    "dice_label.pack()\n",
    "\n",
    "label_result=tk.Label(root,text=\"Click to roll dice!\", font=(\"Helvetica\", 14))\n",
    "label_result.pack(pady=10)\n",
    "roll_button=tk.Button(root, text=\"Roll Dice\", command=roll_dice, font=(\"Helvetica\", 12))\n",
    "roll_button.pack()\n",
    "root.mainloop()"
   ]
  }
 ],
 "metadata": {
  "kernelspec": {
   "display_name": "Python 3 (ipykernel)",
   "language": "python",
   "name": "python3"
  },
  "language_info": {
   "codemirror_mode": {
    "name": "ipython",
    "version": 3
   },
   "file_extension": ".py",
   "mimetype": "text/x-python",
   "name": "python",
   "nbconvert_exporter": "python",
   "pygments_lexer": "ipython3",
   "version": "3.13.5"
  }
 },
 "nbformat": 4,
 "nbformat_minor": 5
}
