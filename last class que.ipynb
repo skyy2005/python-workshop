{
 "cells": [
  {
   "cell_type": "code",
   "execution_count": 1,
   "id": "22307b71-9787-4255-99d3-1146b44762d2",
   "metadata": {},
   "outputs": [
    {
     "name": "stdin",
     "output_type": "stream",
     "text": [
      "Enter the first file content:  book1\n",
      "Enter the second file content:  book2\n"
     ]
    },
    {
     "name": "stdout",
     "output_type": "stream",
     "text": [
      "Total same words: 0\n",
      "Similarity percentage: 0.0%\n"
     ]
    }
   ],
   "source": [
    "file = open(\"book1.txt\", \"w\")\n",
    "input1= input(\"Enter the first file content: \")\n",
    "file.write(input1)\n",
    "file.close()\n",
    "\n",
    "file = open(\"book2.txt\", \"w\")\n",
    "input2 = input(\"Enter the second file content: \")\n",
    "file.write(input2)  \n",
    "\n",
    "file.close()\n",
    "\n",
    "t1 = open(\"book1.txt\", \"r\")\n",
    "t2 = open(\"book2.txt\", \"r\")\n",
    "\n",
    "l1 = t1.read().lower()   \n",
    "l2 = t2.read().lower()\n",
    "\n",
    "l1 = l1.split()  \n",
    "l2 = l2.split()\n",
    "\n",
    "same_word = 0\n",
    "\n",
    "for words1 in l1:\n",
    "    for words2 in l2:\n",
    "        if words1 == words2:\n",
    "            same_word += 1\n",
    "\n",
    "print(f\"Total same words: {same_word}\")\n",
    "\n",
    "\n",
    "total_words = len(l1) + len(l2)\n",
    "\n",
    "similarity = (same_word / total_words) * 100\n",
    "print(f\"Similarity percentage: {similarity}%\")"
   ]
  }
 ],
 "metadata": {
  "kernelspec": {
   "display_name": "Python 3 (ipykernel)",
   "language": "python",
   "name": "python3"
  },
  "language_info": {
   "codemirror_mode": {
    "name": "ipython",
    "version": 3
   },
   "file_extension": ".py",
   "mimetype": "text/x-python",
   "name": "python",
   "nbconvert_exporter": "python",
   "pygments_lexer": "ipython3",
   "version": "3.13.5"
  }
 },
 "nbformat": 4,
 "nbformat_minor": 5
}
